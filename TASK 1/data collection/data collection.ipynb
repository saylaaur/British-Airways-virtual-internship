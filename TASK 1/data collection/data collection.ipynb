{
 "cells": [
  {
   "cell_type": "markdown",
   "metadata": {},
   "source": [
    "### Data Collection  \n",
    "\n",
    "In this phase, we gather customer reviews and ratings from the Skytrax airline quality website. The dataset includes airline ratings, seat ratings, and lounge experience reviews."
   ]
  },
  {
   "cell_type": "code",
   "execution_count": null,
   "metadata": {},
   "outputs": [],
   "source": [
    "#imports\n",
    "import pandas as pd\n",
    "from bs4 import BeautifulSoup\n",
    "import requests\n",
    "import os"
   ]
  },
  {
   "cell_type": "code",
   "execution_count": null,
   "metadata": {},
   "outputs": [],
   "source": [
    "#create an empty list to collect all reviews, stars, dates, countries.\n",
    "reviews, stars, dates, countries = [], [], [], []"
   ]
  },
  {
   "cell_type": "markdown",
   "metadata": {},
   "source": [
    "We collect airline review data from the Skytrax website by scraping multiple pages. The script extracts customer reviews, star ratings, review dates, and reviewer countries. This data will be used for further analysis of customer feedback."
   ]
  },
  {
   "cell_type": "code",
   "execution_count": null,
   "metadata": {},
   "outputs": [
    {
     "name": "stdout",
     "output_type": "stream",
     "text": [
      "✅ Page 1 processed. Collected 100 reviews.\n",
      "✅ Page 2 processed. Collected 200 reviews.\n",
      "✅ Page 3 processed. Collected 300 reviews.\n",
      "✅ Page 4 processed. Collected 400 reviews.\n",
      "✅ Page 5 processed. Collected 500 reviews.\n",
      "✅ Page 6 processed. Collected 600 reviews.\n",
      "✅ Page 7 processed. Collected 700 reviews.\n",
      "✅ Page 8 processed. Collected 800 reviews.\n",
      "✅ Page 9 processed. Collected 900 reviews.\n",
      "✅ Page 10 processed. Collected 1000 reviews.\n",
      "✅ Page 11 processed. Collected 1100 reviews.\n",
      "✅ Page 12 processed. Collected 1200 reviews.\n",
      "✅ Page 13 processed. Collected 1300 reviews.\n",
      "✅ Page 14 processed. Collected 1400 reviews.\n",
      "✅ Page 15 processed. Collected 1500 reviews.\n",
      "✅ Page 16 processed. Collected 1600 reviews.\n",
      "✅ Page 17 processed. Collected 1700 reviews.\n",
      "✅ Page 18 processed. Collected 1800 reviews.\n",
      "✅ Page 19 processed. Collected 1900 reviews.\n",
      "✅ Page 20 processed. Collected 2000 reviews.\n",
      "✅ Page 21 processed. Collected 2100 reviews.\n",
      "✅ Page 22 processed. Collected 2200 reviews.\n",
      "✅ Page 23 processed. Collected 2300 reviews.\n",
      "✅ Page 24 processed. Collected 2400 reviews.\n",
      "✅ Page 25 processed. Collected 2500 reviews.\n",
      "✅ Page 26 processed. Collected 2600 reviews.\n",
      "✅ Page 27 processed. Collected 2700 reviews.\n",
      "✅ Page 28 processed. Collected 2800 reviews.\n",
      "✅ Page 29 processed. Collected 2900 reviews.\n",
      "✅ Page 30 processed. Collected 3000 reviews.\n",
      "✅ Page 31 processed. Collected 3100 reviews.\n",
      "✅ Page 32 processed. Collected 3200 reviews.\n",
      "✅ Page 33 processed. Collected 3300 reviews.\n",
      "✅ Page 34 processed. Collected 3400 reviews.\n",
      "✅ Page 35 processed. Collected 3500 reviews.\n",
      "✅ Page 36 processed. Collected 3600 reviews.\n",
      "✅ Page 37 processed. Collected 3700 reviews.\n",
      "✅ Page 38 processed. Collected 3800 reviews.\n",
      "✅ Page 39 processed. Collected 3900 reviews.\n",
      "✅ Page 40 processed. Collected 3924 reviews.\n"
     ]
    }
   ],
   "source": [
    "for i in range(1, 41):\n",
    "    url = f\"https://www.airlinequality.com/airline-reviews/british-airways/page/{i}/?sortby=post_date%3ADesc&pagesize=100\"\n",
    "    response = requests.get(url)\n",
    "    soup = BeautifulSoup(response.content, \"html.parser\")  \n",
    "\n",
    "   \n",
    "    for item in soup.find_all(\"div\", class_=\"text_content\"):\n",
    "        reviews.append(item.text.strip())\n",
    "\n",
    " \n",
    "    for item in soup.find_all(\"div\", class_=\"rating-10\"):\n",
    "        star = item.span.text.strip() if item.span else \"No rating\"\n",
    "        stars.append(star)\n",
    "\n",
    "   \n",
    "    for item in soup.find_all(\"time\"):\n",
    "        dates.append(item.text.strip())\n",
    "\n",
    "    \n",
    "    for item in soup.find_all(\"h3\"):\n",
    "        country = item.span.next_sibling.text.strip(\" ()\") if item.span else \"Unknown\"\n",
    "        countries.append(country)\n",
    "\n",
    "    print(f\"✅ Page {i} processed. Collected {len(reviews)} reviews.\")"
   ]
  },
  {
   "cell_type": "markdown",
   "metadata": {},
   "source": [
    "To ensure consistency in our dataset, we align the lengths of all extracted lists. The script trims each list to match the shortest one, preventing misalignment issues during data processing."
   ]
  },
  {
   "cell_type": "code",
   "execution_count": null,
   "metadata": {},
   "outputs": [
    {
     "name": "stdout",
     "output_type": "stream",
     "text": [
      "3924 3924 3924 3924\n"
     ]
    }
   ],
   "source": [
    "print(len(reviews), len(stars), len(dates), len(countries))"
   ]
  },
  {
   "cell_type": "code",
   "execution_count": 45,
   "metadata": {},
   "outputs": [],
   "source": [
    "min_length = min(len(reviews), len(stars), len(dates), len(countries))\n",
    "reviews, stars, dates, countries = reviews[:min_length], stars[:min_length], dates[:min_length], countries[:min_length]"
   ]
  },
  {
   "cell_type": "code",
   "execution_count": null,
   "metadata": {},
   "outputs": [],
   "source": [
    "#create  a dataframe from these collected lists of data\n",
    "df = pd.DataFrame({\n",
    "    \"Review\": reviews,\n",
    "    \"Stars\": stars,\n",
    "    \"Date\": dates,\n",
    "    \"Country\": countries\n",
    "})"
   ]
  },
  {
   "cell_type": "code",
   "execution_count": null,
   "metadata": {},
   "outputs": [
    {
     "data": {
      "text/html": [
       "<div>\n",
       "<style scoped>\n",
       "    .dataframe tbody tr th:only-of-type {\n",
       "        vertical-align: middle;\n",
       "    }\n",
       "\n",
       "    .dataframe tbody tr th {\n",
       "        vertical-align: top;\n",
       "    }\n",
       "\n",
       "    .dataframe thead th {\n",
       "        text-align: right;\n",
       "    }\n",
       "</style>\n",
       "<table border=\"1\" class=\"dataframe\">\n",
       "  <thead>\n",
       "    <tr style=\"text-align: right;\">\n",
       "      <th></th>\n",
       "      <th>Review</th>\n",
       "      <th>Stars</th>\n",
       "      <th>Date</th>\n",
       "      <th>Country</th>\n",
       "    </tr>\n",
       "  </thead>\n",
       "  <tbody>\n",
       "    <tr>\n",
       "      <th>0</th>\n",
       "      <td>✅ Trip Verified |   Flight mainly let down by ...</td>\n",
       "      <td>5</td>\n",
       "      <td>19th March 2025</td>\n",
       "      <td>United Kingdom</td>\n",
       "    </tr>\n",
       "    <tr>\n",
       "      <th>1</th>\n",
       "      <td>✅ Trip Verified |   Another awful experience b...</td>\n",
       "      <td>7</td>\n",
       "      <td>16th March 2025</td>\n",
       "      <td>United States</td>\n",
       "    </tr>\n",
       "    <tr>\n",
       "      <th>2</th>\n",
       "      <td>✅ Trip Verified |   The service was rude, full...</td>\n",
       "      <td>1</td>\n",
       "      <td>16th March 2025</td>\n",
       "      <td>United States</td>\n",
       "    </tr>\n",
       "    <tr>\n",
       "      <th>3</th>\n",
       "      <td>✅ Trip Verified |   This flight was a joke. Th...</td>\n",
       "      <td>3</td>\n",
       "      <td>16th March 2025</td>\n",
       "      <td>United States</td>\n",
       "    </tr>\n",
       "    <tr>\n",
       "      <th>4</th>\n",
       "      <td>✅ Trip Verified |   This time British Airways ...</td>\n",
       "      <td>1</td>\n",
       "      <td>7th March 2025</td>\n",
       "      <td>United Kingdom</td>\n",
       "    </tr>\n",
       "  </tbody>\n",
       "</table>\n",
       "</div>"
      ],
      "text/plain": [
       "                                              Review Stars             Date  \\\n",
       "0  ✅ Trip Verified |   Flight mainly let down by ...     5  19th March 2025   \n",
       "1  ✅ Trip Verified |   Another awful experience b...     7  16th March 2025   \n",
       "2  ✅ Trip Verified |   The service was rude, full...     1  16th March 2025   \n",
       "3  ✅ Trip Verified |   This flight was a joke. Th...     3  16th March 2025   \n",
       "4  ✅ Trip Verified |   This time British Airways ...     1   7th March 2025   \n",
       "\n",
       "          Country  \n",
       "0  United Kingdom  \n",
       "1   United States  \n",
       "2   United States  \n",
       "3   United States  \n",
       "4  United Kingdom  "
      ]
     },
     "execution_count": 48,
     "metadata": {},
     "output_type": "execute_result"
    }
   ],
   "source": [
    "df.head()"
   ]
  },
  {
   "cell_type": "code",
   "execution_count": 49,
   "metadata": {},
   "outputs": [
    {
     "data": {
      "text/plain": [
       "(3924, 4)"
      ]
     },
     "execution_count": 49,
     "metadata": {},
     "output_type": "execute_result"
    }
   ],
   "source": [
    "df.shape"
   ]
  },
  {
   "cell_type": "markdown",
   "metadata": {},
   "source": [
    "#### Export the data into a csv format"
   ]
  },
  {
   "cell_type": "code",
   "execution_count": 50,
   "metadata": {},
   "outputs": [
    {
     "name": "stdout",
     "output_type": "stream",
     "text": [
      "Data successfully collected and saved to BA_reviews.csv!\n"
     ]
    }
   ],
   "source": [
    "df.to_csv(\"BA_reviews.csv\")\n",
    "print(\"Data successfully collected and saved to BA_reviews.csv!\")"
   ]
  }
 ],
 "metadata": {
  "kernelspec": {
   "display_name": "Python 3",
   "language": "python",
   "name": "python3"
  },
  "language_info": {
   "codemirror_mode": {
    "name": "ipython",
    "version": 3
   },
   "file_extension": ".py",
   "mimetype": "text/x-python",
   "name": "python",
   "nbconvert_exporter": "python",
   "pygments_lexer": "ipython3",
   "version": "3.13.1"
  }
 },
 "nbformat": 4,
 "nbformat_minor": 2
}
