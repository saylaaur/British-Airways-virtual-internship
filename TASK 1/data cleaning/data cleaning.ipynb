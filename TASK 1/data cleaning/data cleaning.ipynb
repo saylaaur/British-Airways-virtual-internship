{
 "cells": [
  {
   "cell_type": "markdown",
   "metadata": {},
   "source": [
    "### Data cleaning"
   ]
  },
  {
   "cell_type": "markdown",
   "metadata": {},
   "source": [
    "Now that we have extracted the data, it is not yet clean or ready for analysis. The dataset contains unnecessary symbols, missing values, and inconsistent formats. We will process the reviews by removing special characters, stopwords, and formatting issues to ensure better readability and accuracy for further analysis."
   ]
  },
  {
   "cell_type": "code",
   "execution_count": null,
   "metadata": {},
   "outputs": [
    {
     "name": "stderr",
     "output_type": "stream",
     "text": [
      "[nltk_data] Downloading package wordnet to\n",
      "[nltk_data]     C:\\Users\\User\\AppData\\Roaming\\nltk_data...\n",
      "[nltk_data]   Package wordnet is already up-to-date!\n",
      "[nltk_data] Downloading package stopwords to\n",
      "[nltk_data]     C:\\Users\\User\\AppData\\Roaming\\nltk_data...\n",
      "[nltk_data]   Package stopwords is already up-to-date!\n"
     ]
    },
    {
     "data": {
      "text/plain": [
       "True"
      ]
     },
     "execution_count": 31,
     "metadata": {},
     "output_type": "execute_result"
    }
   ],
   "source": [
    "#imports\n",
    "import pandas as pd\n",
    "import matplotlib.pyplot as plt\n",
    "import seaborn as sns\n",
    "import os\n",
    "import re\n",
    "from nltk.stem import WordNetLemmatizer\n",
    "from nltk.corpus import stopwords\n",
    "import nltk\n",
    "nltk.download('wordnet')\n",
    "nltk.download('stopwords')"
   ]
  },
  {
   "cell_type": "markdown",
   "metadata": {},
   "source": [
    "**Loading the Dataset**  \n",
    "Before cleaning, we first load the dataset. The script retrieves the current working directory (`cwd`) and reads the CSV file `BA_reviews.csv` into a pandas DataFrame. The `index_col=0` parameter ensures that the first column is used as the index. Finally, `df.head()` displays the first few rows for an initial inspection."
   ]
  },
  {
   "cell_type": "code",
   "execution_count": 32,
   "metadata": {},
   "outputs": [
    {
     "data": {
      "text/html": [
       "<div>\n",
       "<style scoped>\n",
       "    .dataframe tbody tr th:only-of-type {\n",
       "        vertical-align: middle;\n",
       "    }\n",
       "\n",
       "    .dataframe tbody tr th {\n",
       "        vertical-align: top;\n",
       "    }\n",
       "\n",
       "    .dataframe thead th {\n",
       "        text-align: right;\n",
       "    }\n",
       "</style>\n",
       "<table border=\"1\" class=\"dataframe\">\n",
       "  <thead>\n",
       "    <tr style=\"text-align: right;\">\n",
       "      <th></th>\n",
       "      <th>Review</th>\n",
       "      <th>Stars</th>\n",
       "      <th>Date</th>\n",
       "      <th>Country</th>\n",
       "    </tr>\n",
       "  </thead>\n",
       "  <tbody>\n",
       "    <tr>\n",
       "      <th>0</th>\n",
       "      <td>✅ Trip Verified |   Flight mainly let down by ...</td>\n",
       "      <td>5</td>\n",
       "      <td>19th March 2025</td>\n",
       "      <td>United Kingdom</td>\n",
       "    </tr>\n",
       "    <tr>\n",
       "      <th>1</th>\n",
       "      <td>✅ Trip Verified |   Another awful experience b...</td>\n",
       "      <td>7</td>\n",
       "      <td>16th March 2025</td>\n",
       "      <td>United States</td>\n",
       "    </tr>\n",
       "    <tr>\n",
       "      <th>2</th>\n",
       "      <td>✅ Trip Verified |   The service was rude, full...</td>\n",
       "      <td>1</td>\n",
       "      <td>16th March 2025</td>\n",
       "      <td>United States</td>\n",
       "    </tr>\n",
       "    <tr>\n",
       "      <th>3</th>\n",
       "      <td>✅ Trip Verified |   This flight was a joke. Th...</td>\n",
       "      <td>3</td>\n",
       "      <td>16th March 2025</td>\n",
       "      <td>United States</td>\n",
       "    </tr>\n",
       "    <tr>\n",
       "      <th>4</th>\n",
       "      <td>✅ Trip Verified |   This time British Airways ...</td>\n",
       "      <td>1</td>\n",
       "      <td>7th March 2025</td>\n",
       "      <td>United Kingdom</td>\n",
       "    </tr>\n",
       "  </tbody>\n",
       "</table>\n",
       "</div>"
      ],
      "text/plain": [
       "                                              Review Stars             Date  \\\n",
       "0  ✅ Trip Verified |   Flight mainly let down by ...     5  19th March 2025   \n",
       "1  ✅ Trip Verified |   Another awful experience b...     7  16th March 2025   \n",
       "2  ✅ Trip Verified |   The service was rude, full...     1  16th March 2025   \n",
       "3  ✅ Trip Verified |   This flight was a joke. Th...     3  16th March 2025   \n",
       "4  ✅ Trip Verified |   This time British Airways ...     1   7th March 2025   \n",
       "\n",
       "          Country  \n",
       "0  United Kingdom  \n",
       "1   United States  \n",
       "2   United States  \n",
       "3   United States  \n",
       "4  United Kingdom  "
      ]
     },
     "execution_count": 32,
     "metadata": {},
     "output_type": "execute_result"
    }
   ],
   "source": [
    "cwd = os.getcwd()\n",
    "df = pd.read_csv(cwd + \"/BA_reviews.csv\", index_col=0)\n",
    "df.head()"
   ]
  },
  {
   "cell_type": "markdown",
   "metadata": {},
   "source": [
    "**Extracting Verified Reviews**  \n",
    "We create a new column, `verified`, to indicate whether a review is marked as \"Trip Verified.\" The `.str.contains(\"Trip Verified\")` function checks if the phrase appears in the `Review` column, returning `True` for verified reviews and `False` otherwise."
   ]
  },
  {
   "cell_type": "code",
   "execution_count": 33,
   "metadata": {},
   "outputs": [],
   "source": [
    "df['verified'] = df.Review.str.contains(\"Trip Verified\")\n"
   ]
  },
  {
   "cell_type": "markdown",
   "metadata": {},
   "source": [
    "\n",
    "The review text is cleaned by removing non-alphabetic characters, converting to lowercase, removing stopwords, and applying lemmatization. The processed text is stored in the `corpus` column."
   ]
  },
  {
   "cell_type": "code",
   "execution_count": 34,
   "metadata": {},
   "outputs": [],
   "source": [
    "lemma = WordNetLemmatizer()\n",
    "reviews_data = df.Review.str.replace(\"✅ Trip Verified |\", \"\", regex=True)\n",
    "corpus = []\n",
    "\n",
    "for rev in reviews_data:\n",
    "    rev = re.sub('[^a-zA-Z]', ' ', rev)\n",
    "    rev = rev.lower().split()\n",
    "    rev = [lemma.lemmatize(word) for word in rev if word not in set(stopwords.words(\"english\"))]\n",
    "    corpus.append(\" \".join(rev))\n",
    "\n",
    "df['corpus'] = corpus"
   ]
  },
  {
   "cell_type": "code",
   "execution_count": 35,
   "metadata": {},
   "outputs": [],
   "source": [
    "df.Date = pd.to_datetime(df.Date, errors='coerce')"
   ]
  },
  {
   "cell_type": "code",
   "execution_count": 36,
   "metadata": {},
   "outputs": [],
   "source": [
    "df.Stars = df.Stars.str.strip(\"\\n\\t\")\n",
    "df = df[df.Stars != \"None\"]"
   ]
  },
  {
   "cell_type": "code",
   "execution_count": 37,
   "metadata": {},
   "outputs": [],
   "source": [
    "df.dropna(subset=['Country'], inplace=True)\n",
    "\n",
    "df.reset_index(drop=True, inplace=True)"
   ]
  },
  {
   "cell_type": "markdown",
   "metadata": {},
   "source": [
    "\n",
    "The cleaned dataset is saved as a CSV file named **`cleaned-BA-reviews.csv`** in the current working directory for further analysis."
   ]
  },
  {
   "cell_type": "code",
   "execution_count": 38,
   "metadata": {},
   "outputs": [],
   "source": [
    "df.to_csv(cwd + \"/cleaned-BA-reviews.csv\")"
   ]
  },
  {
   "cell_type": "code",
   "execution_count": 39,
   "metadata": {},
   "outputs": [
    {
     "data": {
      "text/html": [
       "<div>\n",
       "<style scoped>\n",
       "    .dataframe tbody tr th:only-of-type {\n",
       "        vertical-align: middle;\n",
       "    }\n",
       "\n",
       "    .dataframe tbody tr th {\n",
       "        vertical-align: top;\n",
       "    }\n",
       "\n",
       "    .dataframe thead th {\n",
       "        text-align: right;\n",
       "    }\n",
       "</style>\n",
       "<table border=\"1\" class=\"dataframe\">\n",
       "  <thead>\n",
       "    <tr style=\"text-align: right;\">\n",
       "      <th></th>\n",
       "      <th>Review</th>\n",
       "      <th>Stars</th>\n",
       "      <th>Date</th>\n",
       "      <th>Country</th>\n",
       "      <th>verified</th>\n",
       "      <th>corpus</th>\n",
       "    </tr>\n",
       "  </thead>\n",
       "  <tbody>\n",
       "    <tr>\n",
       "      <th>0</th>\n",
       "      <td>✅ Trip Verified |   Flight mainly let down by ...</td>\n",
       "      <td>5</td>\n",
       "      <td>2025-03-19</td>\n",
       "      <td>United Kingdom</td>\n",
       "      <td>True</td>\n",
       "      <td>flight mainly let disagreeable flight attendan...</td>\n",
       "    </tr>\n",
       "    <tr>\n",
       "      <th>1</th>\n",
       "      <td>✅ Trip Verified |   Another awful experience b...</td>\n",
       "      <td>7</td>\n",
       "      <td>2025-03-16</td>\n",
       "      <td>United States</td>\n",
       "      <td>True</td>\n",
       "      <td>another awful experience british airway flight...</td>\n",
       "    </tr>\n",
       "    <tr>\n",
       "      <th>2</th>\n",
       "      <td>✅ Trip Verified |   The service was rude, full...</td>\n",
       "      <td>1</td>\n",
       "      <td>2025-03-16</td>\n",
       "      <td>United States</td>\n",
       "      <td>True</td>\n",
       "      <td>service rude full attitude food poorly service...</td>\n",
       "    </tr>\n",
       "    <tr>\n",
       "      <th>3</th>\n",
       "      <td>✅ Trip Verified |   This flight was a joke. Th...</td>\n",
       "      <td>3</td>\n",
       "      <td>2025-03-16</td>\n",
       "      <td>United States</td>\n",
       "      <td>True</td>\n",
       "      <td>flight joke four people business class includi...</td>\n",
       "    </tr>\n",
       "    <tr>\n",
       "      <th>4</th>\n",
       "      <td>✅ Trip Verified |   This time British Airways ...</td>\n",
       "      <td>1</td>\n",
       "      <td>2025-03-07</td>\n",
       "      <td>United Kingdom</td>\n",
       "      <td>True</td>\n",
       "      <td>time british airway managed get everything rig...</td>\n",
       "    </tr>\n",
       "  </tbody>\n",
       "</table>\n",
       "</div>"
      ],
      "text/plain": [
       "                                              Review Stars       Date  \\\n",
       "0  ✅ Trip Verified |   Flight mainly let down by ...     5 2025-03-19   \n",
       "1  ✅ Trip Verified |   Another awful experience b...     7 2025-03-16   \n",
       "2  ✅ Trip Verified |   The service was rude, full...     1 2025-03-16   \n",
       "3  ✅ Trip Verified |   This flight was a joke. Th...     3 2025-03-16   \n",
       "4  ✅ Trip Verified |   This time British Airways ...     1 2025-03-07   \n",
       "\n",
       "          Country  verified                                             corpus  \n",
       "0  United Kingdom      True  flight mainly let disagreeable flight attendan...  \n",
       "1   United States      True  another awful experience british airway flight...  \n",
       "2   United States      True  service rude full attitude food poorly service...  \n",
       "3   United States      True  flight joke four people business class includi...  \n",
       "4  United Kingdom      True  time british airway managed get everything rig...  "
      ]
     },
     "execution_count": 39,
     "metadata": {},
     "output_type": "execute_result"
    }
   ],
   "source": [
    "df.head()"
   ]
  }
 ],
 "metadata": {
  "kernelspec": {
   "display_name": "Python 3",
   "language": "python",
   "name": "python3"
  },
  "language_info": {
   "codemirror_mode": {
    "name": "ipython",
    "version": 3
   },
   "file_extension": ".py",
   "mimetype": "text/x-python",
   "name": "python",
   "nbconvert_exporter": "python",
   "pygments_lexer": "ipython3",
   "version": "3.13.1"
  }
 },
 "nbformat": 4,
 "nbformat_minor": 2
}
